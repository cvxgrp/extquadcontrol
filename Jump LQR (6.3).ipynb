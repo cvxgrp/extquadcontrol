{
 "cells": [
  {
   "cell_type": "code",
   "execution_count": 1,
   "metadata": {},
   "outputs": [],
   "source": [
    "%load_ext autoreload\n",
    "%autoreload 2"
   ]
  },
  {
   "cell_type": "code",
   "execution_count": 2,
   "metadata": {},
   "outputs": [],
   "source": [
    "import numpy as np; np.random.seed(0)\n",
    "np.set_printoptions(precision=3)\n",
    "import matplotlib.pyplot as plt\n",
    "from plot_settings import savefig\n",
    "\n",
    "from extquadcontrol import ExtendedQuadratic, dp_infinite, dp_finite\n",
    "from system import InfiniteHorizonSystem\n",
    "from policy import TimeInvariantAffinePolicy"
   ]
  },
  {
   "cell_type": "markdown",
   "metadata": {},
   "source": [
    "# Jump LQR\n",
    "\n",
    "In this example, the dynamics are linear and the cost is quadratic. The system has modes and randomly transitions  between them.\n",
    "\n",
    "The dynamics are\n",
    "$$s=1; \\quad x_{t+1} = 1.2x_t + 0.1u_t+0.2w_t$$\n",
    "$$s=2; \\quad x_{t+1} = 0.8x_t - 0.1u_t+0.1w_t$$\n",
    "where $w_t \\sim \\mathcal{N}(0,1)$, and the Markov chain transition probabilities are\n",
    "$$\\Pi = \\begin{bmatrix} .8 & .2 \\\\ .2 & .8 \\end{bmatrix}.$$\n",
    "The goal is to minimize\n",
    "$$\\sum_{t=0}^\\infty \\|x_t\\|_2^2 + \\|u_t\\|_2^2.$$"
   ]
  },
  {
   "cell_type": "code",
   "execution_count": 3,
   "metadata": {},
   "outputs": [],
   "source": [
    "n = 1\n",
    "m = 1\n",
    "N = 100\n",
    "K = 2\n",
    "T = 50"
   ]
  },
  {
   "cell_type": "code",
   "execution_count": 4,
   "metadata": {},
   "outputs": [],
   "source": [
    "def get_sample(individual=False):\n",
    "    def sample(N):\n",
    "        A = np.zeros((N,K,n,n))\n",
    "        B = np.zeros((N,K,n,m))\n",
    "        c = np.zeros((N,K,n))\n",
    "        \n",
    "        A[:,0,:,:] = 1.2\n",
    "        B[:,0,:,:] = .1\n",
    "        c[:,0,:] = 0*np.random.normal(size=(N,n))\n",
    "    \n",
    "        A[:,1,:,:] = 0.8\n",
    "        B[:,1,:,:] = -.1\n",
    "        c[:,1,:] = 0*np.random.normal(size=(N,n))\n",
    "        \n",
    "        Pi = np.array([\n",
    "            [.8,.2],\n",
    "            [.2,.8]\n",
    "        ])\n",
    "        \n",
    "        if individual: \n",
    "            Pi = np.eye(K)\n",
    "\n",
    "        P = np.diag(np.r_[np.ones(n),1*np.ones(m)])\n",
    "        q = np.zeros(n+m)\n",
    "        r = 0\n",
    "        g = [[ExtendedQuadratic(P,q,r) for _ in range(K)] for _ in range(N)]\n",
    "\n",
    "        return A,B,c,g,Pi\n",
    "\n",
    "    return sample"
   ]
  },
  {
   "cell_type": "code",
   "execution_count": 5,
   "metadata": {},
   "outputs": [
    {
     "data": {
      "text/plain": [
       "[(array([[-2.541]]), array([0.])), (array([[0.919]]), array([0.]))]"
      ]
     },
     "execution_count": 5,
     "metadata": {},
     "output_type": "execute_result"
    }
   ],
   "source": [
    "sample = get_sample()\n",
    "V, Q, policy = dp_infinite(sample, T, N)\n",
    "p = TimeInvariantAffinePolicy(policy)\n",
    "policy"
   ]
  },
  {
   "cell_type": "code",
   "execution_count": 6,
   "metadata": {},
   "outputs": [
    {
     "data": {
      "text/plain": [
       "[(array([[-3.844]]), array([0.])), (array([[0.207]]), array([0.]))]"
      ]
     },
     "execution_count": 6,
     "metadata": {},
     "output_type": "execute_result"
    }
   ],
   "source": [
    "sample = get_sample(True)\n",
    "V, Q, policy_individual = dp_infinite(sample, T, N)\n",
    "p_ind = TimeInvariantAffinePolicy(policy_individual)\n",
    "policy_individual"
   ]
  },
  {
   "cell_type": "code",
   "execution_count": 7,
   "metadata": {},
   "outputs": [],
   "source": [
    "system = InfiniteHorizonSystem(get_sample(), K)"
   ]
  },
  {
   "cell_type": "code",
   "execution_count": 8,
   "metadata": {},
   "outputs": [
    {
     "data": {
      "text/plain": [
       "16.162312795106406"
      ]
     },
     "execution_count": 8,
     "metadata": {},
     "output_type": "execute_result"
    }
   ],
   "source": [
    "avg_cost = 0.\n",
    "np.random.seed(0)\n",
    "for _ in range(100):\n",
    "    Xs, Us, Modes, cost = system.simulate(x0=[10],s0=0,T=100,policy=p)\n",
    "    avg_cost += cost/100\n",
    "avg_cost"
   ]
  },
  {
   "cell_type": "code",
   "execution_count": 9,
   "metadata": {},
   "outputs": [
    {
     "data": {
      "text/plain": [
       "18.527510707874765"
      ]
     },
     "execution_count": 9,
     "metadata": {},
     "output_type": "execute_result"
    }
   ],
   "source": [
    "avg_cost = 0.\n",
    "np.random.seed(0)\n",
    "for _ in range(100):\n",
    "    Xs, Us, Modes, cost = system.simulate(x0=[10],s0=0,T=100,policy=p_ind)\n",
    "    avg_cost += cost/100\n",
    "avg_cost"
   ]
  },
  {
   "cell_type": "code",
   "execution_count": null,
   "metadata": {},
   "outputs": [],
   "source": []
  }
 ],
 "metadata": {
  "kernelspec": {
   "display_name": "Python 3",
   "language": "python",
   "name": "python3"
  },
  "language_info": {
   "codemirror_mode": {
    "name": "ipython",
    "version": 3
   },
   "file_extension": ".py",
   "mimetype": "text/x-python",
   "name": "python",
   "nbconvert_exporter": "python",
   "pygments_lexer": "ipython3",
   "version": "3.6.6"
  }
 },
 "nbformat": 4,
 "nbformat_minor": 2
}
