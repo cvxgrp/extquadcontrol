{
 "cells": [
  {
   "cell_type": "code",
   "execution_count": 1,
   "metadata": {},
   "outputs": [],
   "source": [
    "%load_ext autoreload\n",
    "%autoreload 2"
   ]
  },
  {
   "cell_type": "code",
   "execution_count": 2,
   "metadata": {},
   "outputs": [],
   "source": [
    "import numpy as np; np.random.seed(0)\n",
    "\n",
    "from extquadcontrol import ExtendedQuadratic, dp_infinite, dp_finite\n",
    "from scipy.linalg import solve_discrete_are"
   ]
  },
  {
   "cell_type": "markdown",
   "metadata": {},
   "source": [
    "# LQR\n",
    "\n",
    "We verify that our implementation matches the controller returned by the infinite horizon Riccati Recursion."
   ]
  },
  {
   "cell_type": "code",
   "execution_count": 3,
   "metadata": {},
   "outputs": [],
   "source": [
    "n, m = 5,5\n",
    "K = 1\n",
    "N = 1\n",
    "T = 25\n",
    "\n",
    "As = np.random.randn(1,1,n,n)\n",
    "Bs = np.random.randn(1,1,n,m)\n",
    "cs = np.zeros((1,1,n))\n",
    "gs = [ExtendedQuadratic(np.eye(n+m),np.zeros(n+m),0) for _ in range(K)]\n",
    "Pi = np.eye(K)\n",
    "def sample(t, N):\n",
    "    A = np.zeros((N,K,n,n)); A[:] = As\n",
    "    B = np.zeros((N,K,n,m)); B[:] = Bs\n",
    "    c = np.zeros((N,K,n)); c[:] = cs\n",
    "    g = [gs for _ in range(N)]\n",
    "    return A,B,c,g,Pi\n",
    "g_T = [ExtendedQuadratic(np.eye(n),np.zeros(n),0) for _ in range(K)]\n",
    "Vs, Qs, policies = dp_finite(sample, g_T, T, N)"
   ]
  },
  {
   "cell_type": "code",
   "execution_count": 4,
   "metadata": {
    "scrolled": true
   },
   "outputs": [
    {
     "data": {
      "text/plain": [
       "array([[ 2.46137441, -0.77024827, -0.33980347,  0.66651709, -0.69610513],\n",
       "       [-0.77024827,  6.24869755,  1.74646601,  0.93560635,  2.00406741],\n",
       "       [-0.33980347,  1.74646601,  1.98781933,  0.57979962,  1.51304143],\n",
       "       [ 0.66651709,  0.93560635,  0.57979962,  2.14107031,  1.05984051],\n",
       "       [-0.69610513,  2.00406741,  1.51304143,  1.05984051,  3.91844687]])"
      ]
     },
     "execution_count": 4,
     "metadata": {},
     "output_type": "execute_result"
    }
   ],
   "source": [
    "Vs[0][0].P"
   ]
  },
  {
   "cell_type": "code",
   "execution_count": 5,
   "metadata": {},
   "outputs": [
    {
     "data": {
      "text/plain": [
       "array([[-0.1531434 ,  1.48273977,  0.75353673,  0.66434926,  1.25074963],\n",
       "       [-0.7184896 , -0.28190404, -0.01678578, -0.42554618,  0.20588423],\n",
       "       [ 0.27487237,  0.15280488, -0.35387326,  0.21502023, -0.45298026],\n",
       "       [-0.71000192,  0.38519929,  0.17111865, -0.1229067 ,  0.62503111],\n",
       "       [-0.50136684,  0.86866064, -0.02695909, -0.51365859, -0.46328911]])"
      ]
     },
     "execution_count": 5,
     "metadata": {},
     "output_type": "execute_result"
    }
   ],
   "source": [
    "policies[0][0][0]"
   ]
  },
  {
   "cell_type": "code",
   "execution_count": 6,
   "metadata": {},
   "outputs": [],
   "source": [
    "A = As[0,0]\n",
    "B = Bs[0,0]\n",
    "Q = np.eye(n)\n",
    "R = np.eye(m)\n",
    "def solve_finite_time():\n",
    "    P = Q\n",
    "    for _ in range(50):\n",
    "        P = Q+A.T@P@A-A.T@P@B@np.linalg.solve(R+B.T@P@B,B.T@P@A)\n",
    "    K = -np.linalg.solve(R+B.T@P@B,B.T@P@A)\n",
    "    return P, K\n",
    "P, K = solve_finite_time()"
   ]
  },
  {
   "cell_type": "code",
   "execution_count": 7,
   "metadata": {},
   "outputs": [
    {
     "data": {
      "text/plain": [
       "array([[ 2.46137441, -0.77024827, -0.33980347,  0.66651709, -0.69610513],\n",
       "       [-0.77024827,  6.24869755,  1.74646601,  0.93560635,  2.00406741],\n",
       "       [-0.33980347,  1.74646601,  1.98781933,  0.57979962,  1.51304143],\n",
       "       [ 0.66651709,  0.93560635,  0.57979962,  2.14107031,  1.05984051],\n",
       "       [-0.69610513,  2.00406741,  1.51304143,  1.05984051,  3.91844687]])"
      ]
     },
     "execution_count": 7,
     "metadata": {},
     "output_type": "execute_result"
    }
   ],
   "source": [
    "P"
   ]
  },
  {
   "cell_type": "code",
   "execution_count": 8,
   "metadata": {},
   "outputs": [
    {
     "data": {
      "text/plain": [
       "array([[-0.1531434 ,  1.48273977,  0.75353673,  0.66434926,  1.25074963],\n",
       "       [-0.7184896 , -0.28190404, -0.01678578, -0.42554618,  0.20588423],\n",
       "       [ 0.27487237,  0.15280488, -0.35387326,  0.21502023, -0.45298026],\n",
       "       [-0.71000192,  0.38519929,  0.17111865, -0.1229067 ,  0.62503111],\n",
       "       [-0.50136684,  0.86866064, -0.02695909, -0.51365859, -0.46328911]])"
      ]
     },
     "execution_count": 8,
     "metadata": {},
     "output_type": "execute_result"
    }
   ],
   "source": [
    "K"
   ]
  },
  {
   "cell_type": "markdown",
   "metadata": {},
   "source": [
    "### Infinite-horizon"
   ]
  },
  {
   "cell_type": "code",
   "execution_count": 9,
   "metadata": {},
   "outputs": [
    {
     "data": {
      "text/plain": [
       "array([[ 3.08277538e+00,  1.06380848e+00,  7.23507249e-01,\n",
       "         3.42727302e+00, -2.63851038e-01],\n",
       "       [ 1.06380848e+00,  2.24055073e+00,  1.04169334e-01,\n",
       "         1.80452627e+00, -1.39624160e-01],\n",
       "       [ 7.23507249e-01,  1.04169334e-01,  1.60752741e+00,\n",
       "         6.61172514e-01, -7.55649163e-03],\n",
       "       [ 3.42727302e+00,  1.80452627e+00,  6.61172514e-01,\n",
       "         8.19011957e+00, -6.44350241e-01],\n",
       "       [-2.63851038e-01, -1.39624160e-01, -7.55649163e-03,\n",
       "        -6.44350241e-01,  1.10281654e+00]])"
      ]
     },
     "execution_count": 9,
     "metadata": {},
     "output_type": "execute_result"
    }
   ],
   "source": [
    "A = np.random.randn(1,1,n,n)\n",
    "B = np.random.randn(1,1,n,m)\n",
    "c = np.zeros((1,1,n))\n",
    "g = [[ExtendedQuadratic(np.eye(n+m),np.zeros(n+m),0)]]\n",
    "Pi = np.ones((1,1))\n",
    "def sample(t):\n",
    "    return A,B,c,g,Pi\n",
    "V, Qs, policy = dp_infinite(sample, 50, 1)\n",
    "V[0].P"
   ]
  },
  {
   "cell_type": "code",
   "execution_count": 10,
   "metadata": {},
   "outputs": [],
   "source": [
    "A = A[0,0]\n",
    "B = B[0,0]"
   ]
  },
  {
   "cell_type": "code",
   "execution_count": 11,
   "metadata": {},
   "outputs": [
    {
     "data": {
      "text/plain": [
       "array([[ 3.08277538e+00,  1.06380848e+00,  7.23507249e-01,\n",
       "         3.42727302e+00, -2.63851038e-01],\n",
       "       [ 1.06380848e+00,  2.24055073e+00,  1.04169334e-01,\n",
       "         1.80452627e+00, -1.39624160e-01],\n",
       "       [ 7.23507249e-01,  1.04169334e-01,  1.60752741e+00,\n",
       "         6.61172514e-01, -7.55649163e-03],\n",
       "       [ 3.42727302e+00,  1.80452627e+00,  6.61172514e-01,\n",
       "         8.19011957e+00, -6.44350241e-01],\n",
       "       [-2.63851038e-01, -1.39624160e-01, -7.55649163e-03,\n",
       "        -6.44350241e-01,  1.10281654e+00]])"
      ]
     },
     "execution_count": 11,
     "metadata": {},
     "output_type": "execute_result"
    }
   ],
   "source": [
    "P = solve_discrete_are(A,B,Q,R)\n",
    "P"
   ]
  },
  {
   "cell_type": "code",
   "execution_count": null,
   "metadata": {},
   "outputs": [],
   "source": []
  }
 ],
 "metadata": {
  "kernelspec": {
   "display_name": "Python 3",
   "language": "python",
   "name": "python3"
  },
  "language_info": {
   "codemirror_mode": {
    "name": "ipython",
    "version": 3
   },
   "file_extension": ".py",
   "mimetype": "text/x-python",
   "name": "python",
   "nbconvert_exporter": "python",
   "pygments_lexer": "ipython3",
   "version": "3.6.6"
  }
 },
 "nbformat": 4,
 "nbformat_minor": 2
}
