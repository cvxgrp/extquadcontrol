{
 "cells": [
  {
   "cell_type": "markdown",
   "metadata": {},
   "source": [
    "The iexfinance API seems to be not working. For now, this example does not work."
   ]
  },
  {
   "cell_type": "code",
   "execution_count": null,
   "metadata": {},
   "outputs": [],
   "source": [
    "%load_ext autoreload\n",
    "%autoreload 2"
   ]
  },
  {
   "cell_type": "code",
   "execution_count": null,
   "metadata": {},
   "outputs": [],
   "source": [
    "import numpy as np; np.random.seed(1)\n",
    "import matplotlib.pyplot as plt\n",
    "import pandas as pd\n",
    "from extquadcontrol import dp_finite, dp_infinite, ExtendedQuadratic, \\\n",
    "    FiniteHorizonSystem, InfiniteHorizonSystem, AffinePolicy, Policy, TimeInvariantAffinePolicy\n",
    "from scipy.linalg import block_diag\n",
    "import cvxpy as cvx\n",
    "\n",
    "from iexfinance import get_historical_data\n",
    "from datetime import datetime\n",
    "import pandas as pd"
   ]
  },
  {
   "cell_type": "code",
   "execution_count": null,
   "metadata": {},
   "outputs": [],
   "source": [
    "def extended_quadratic_to_cvx(f, x):\n",
    "    if f.F.shape[0] == 0:\n",
    "        return .5 * cvx.quad_form(x, f.P) + f.q * x + .5 * f.r, []\n",
    "    else:\n",
    "        return .5 * cvx.quad_form(x, f.P) + f.q * x + .5 * f.r, [f.F * x + f.g == 0]"
   ]
  },
  {
   "cell_type": "code",
   "execution_count": null,
   "metadata": {},
   "outputs": [],
   "source": [
    "# import quandl;\n",
    "# quandl.ApiConfig.api_key = \"INSERT API KEY HERE\"\n",
    "tickers = ['FXI','GDX','IWM','QQQ','SPY','XLF','XOP']\n",
    "n = len(tickers)\n",
    "P = []\n",
    "for t in tickers:\n",
    "    df = get_historical_data(t, output_format='pandas')\n",
    "    P.append(np.array(df.open)[:,None])\n",
    "prices = np.concatenate(P,axis=1) "
   ]
  },
  {
   "cell_type": "code",
   "execution_count": null,
   "metadata": {
    "scrolled": false
   },
   "outputs": [],
   "source": [
    "vix = np.array(quandl.get('CHRIS/CBOE_VX5',start_date='2011-01-01').Open)[-prices.shape[0]:]"
   ]
  },
  {
   "cell_type": "code",
   "execution_count": null,
   "metadata": {},
   "outputs": [],
   "source": [
    "vix = vix[:-1]\n",
    "prices = prices[1:]"
   ]
  },
  {
   "cell_type": "code",
   "execution_count": null,
   "metadata": {},
   "outputs": [],
   "source": [
    "i = 0\n",
    "for p in prices.T:\n",
    "    plt.plot(p,label=tickers[i])\n",
    "    i += 1\n",
    "plt.legend()"
   ]
  },
  {
   "cell_type": "code",
   "execution_count": null,
   "metadata": {},
   "outputs": [],
   "source": [
    "plt.plot(vix)"
   ]
  },
  {
   "cell_type": "code",
   "execution_count": null,
   "metadata": {},
   "outputs": [],
   "source": [
    "dvix = np.diff(vix)/vix[:-1]\n",
    "dvix = dvix[:-1]\n",
    "plt.plot(dvix)"
   ]
  },
  {
   "cell_type": "code",
   "execution_count": null,
   "metadata": {},
   "outputs": [],
   "source": [
    "plt.hist(dvix, bins=50);"
   ]
  },
  {
   "cell_type": "code",
   "execution_count": null,
   "metadata": {},
   "outputs": [],
   "source": [
    "ranges = np.r_[\n",
    "    -np.logspace(-2.5,np.log10(-np.min(dvix)+1e-4),3)[::-1],\n",
    "    np.logspace(-2.5,np.log10(np.max(dvix)+1e-4),3)\n",
    "]\n",
    "np.set_printoptions(precision=3)\n",
    "ranges"
   ]
  },
  {
   "cell_type": "code",
   "execution_count": null,
   "metadata": {},
   "outputs": [],
   "source": [
    "cut = pd.cut(dvix,ranges,labels=np.arange(len(ranges)-1))\n",
    "cut.value_counts()"
   ]
  },
  {
   "cell_type": "code",
   "execution_count": null,
   "metadata": {},
   "outputs": [],
   "source": [
    "K = len(cut.value_counts())\n",
    "Pi = 0*np.ones((K,K))\n",
    "for i in range(len(cut)-1):\n",
    "    Pi[cut[i+1],cut[i]] += 1"
   ]
  },
  {
   "cell_type": "code",
   "execution_count": null,
   "metadata": {},
   "outputs": [],
   "source": [
    "Pi/=np.sum(Pi,axis=0)"
   ]
  },
  {
   "cell_type": "code",
   "execution_count": null,
   "metadata": {
    "scrolled": true
   },
   "outputs": [],
   "source": [
    "plt.imshow(Pi)\n",
    "Pi\n",
    "# Pi = np.eye(K)"
   ]
  },
  {
   "cell_type": "code",
   "execution_count": null,
   "metadata": {},
   "outputs": [],
   "source": [
    "returnslog = np.log(1+np.diff(prices,axis=0)/prices[:-1])\n",
    "returnslog = returnslog[1:]\n",
    "mus = []\n",
    "sigmas = []\n",
    "means = []\n",
    "covs = []\n",
    "for i in range(K):\n",
    "    mu = np.mean(returnslog[cut==i],axis=0)\n",
    "    sigma = np.cov(returnslog[cut==i].T) + 1e-10*np.eye(n)\n",
    "    mus.append(mu)\n",
    "    sigmas.append(sigma)\n",
    "    \n",
    "    mean = np.exp(mu + .5*np.diag(sigma))\n",
    "    covariance = np.diag(mean)@(np.exp(sigma)-np.ones((n,n)))@np.diag(mean)\n",
    "    means.append(mean)\n",
    "    covs.append(covariance)"
   ]
  },
  {
   "cell_type": "code",
   "execution_count": null,
   "metadata": {},
   "outputs": [],
   "source": [
    "means"
   ]
  },
  {
   "cell_type": "code",
   "execution_count": null,
   "metadata": {},
   "outputs": [],
   "source": [
    "np.set_printoptions(precision=5,suppress=True)\n",
    "plt.figure(figsize=(14,10))\n",
    "for i in range(n):\n",
    "    plt.plot([m[i] for m in means], c='black')"
   ]
  },
  {
   "cell_type": "code",
   "execution_count": null,
   "metadata": {},
   "outputs": [],
   "source": [
    "plt.figure(figsize=(14,10))\n",
    "for i in range(n):\n",
    "    plt.plot([np.sqrt(c[i,i]) for c in covs], c='black')"
   ]
  },
  {
   "cell_type": "code",
   "execution_count": null,
   "metadata": {},
   "outputs": [],
   "source": [
    "means[4]"
   ]
  },
  {
   "cell_type": "code",
   "execution_count": null,
   "metadata": {},
   "outputs": [],
   "source": [
    "covs[4]"
   ]
  },
  {
   "cell_type": "code",
   "execution_count": null,
   "metadata": {},
   "outputs": [],
   "source": [
    "w = cvx.Variable(n)\n",
    "ws = []\n",
    "for gamma in np.logspace(-1,5,100):\n",
    "    objective = -means[2]*w + gamma/2*cvx.quad_form(w,covs[2])\n",
    "    constraints = [np.ones(n)*w == 1, w >=0]\n",
    "\n",
    "    problem = cvx.Problem(cvx.Minimize(objective),constraints)\n",
    "    result = problem.solve(solver='OSQP')\n",
    "    ws.append(np.array(w.value)[:,None])\n",
    "ws = np.concatenate(ws,axis=1)\n",
    "for i in range(n):\n",
    "    plt.semilogx(np.logspace(-1,5,100),ws[i], label=tickers[i])\n",
    "plt.legend()"
   ]
  },
  {
   "cell_type": "code",
   "execution_count": null,
   "metadata": {},
   "outputs": [],
   "source": [
    "b = [prices[-1]*1e-7 for _ in range(K)]\n",
    "gamma = 1e-1\n",
    "T = 30\n",
    "N = 30\n",
    "\n",
    "def sample(t,N):\n",
    "    As = np.zeros((N,K,n,n))\n",
    "    Bs = np.zeros((N,K,n,n))\n",
    "    cs = np.zeros((N,K,n))\n",
    "    for s in range(K):\n",
    "        mu,sigma=mus[s],sigmas[s]\n",
    "        r = np.exp(np.random.multivariate_normal(mu,sigma,size=N))\n",
    "        for i in range(n):\n",
    "            As[:,s,i,i] = r[:,i]\n",
    "            Bs[:,s,i,i] = r[:,i]\n",
    "    gs = []\n",
    "    for s in range(K):\n",
    "        mean,cov = means[s],covs[s]\n",
    "        g = ExtendedQuadratic(np.c_[np.r_[gamma*cov,gamma*cov],np.r_[gamma*cov,gamma*cov+np.diag(b[s])]],-np.r_[mean,mean],0,np.c_[np.zeros((1,n)),np.ones((1,n))],np.zeros(1))\n",
    "        gs.append(g)\n",
    "    return As,Bs,cs,[gs for _ in range(N)],Pi\n",
    "sample_infinite = lambda N: sample(0,N)\n",
    "g_T = [ExtendedQuadratic(np.zeros((n,n)),np.zeros(n),0) for s in range(K)]"
   ]
  },
  {
   "cell_type": "code",
   "execution_count": null,
   "metadata": {},
   "outputs": [],
   "source": [
    "Vs, Qs, policies = dp_finite(sample,g_T,T,N)\n",
    "V = Vs[0]\n",
    "Q = Qs[0]\n",
    "policy = policies[0]"
   ]
  },
  {
   "cell_type": "code",
   "execution_count": null,
   "metadata": {},
   "outputs": [],
   "source": [
    "Kpolicy,kpolicy = policy[0]\n",
    "# Kpolicy"
   ]
  },
  {
   "cell_type": "code",
   "execution_count": null,
   "metadata": {},
   "outputs": [],
   "source": [
    "xstar = -np.linalg.lstsq(Kpolicy,kpolicy,rcond=None)[0]\n",
    "np.allclose(-Kpolicy@xstar,kpolicy)"
   ]
  },
  {
   "cell_type": "code",
   "execution_count": null,
   "metadata": {},
   "outputs": [],
   "source": [
    "np.set_printoptions(precision=3,suppress=False)\n",
    "for i in range(n):\n",
    "    print (tickers[i], (xstar/np.sum(xstar))[i])"
   ]
  },
  {
   "cell_type": "code",
   "execution_count": null,
   "metadata": {},
   "outputs": [],
   "source": [
    "np.linalg.eigvals(Kpolicy)"
   ]
  },
  {
   "cell_type": "code",
   "execution_count": null,
   "metadata": {},
   "outputs": [],
   "source": [
    "system = InfiniteHorizonSystem(sample_infinite,K)"
   ]
  },
  {
   "cell_type": "code",
   "execution_count": null,
   "metadata": {},
   "outputs": [],
   "source": [
    "final_wealths = []\n",
    "np.random.seed(1)\n",
    "for i in range(100):\n",
    "    Xs, Us, Modes, cost = system.simulate(1000*np.ones(n),3,30,TimeInvariantAffinePolicy(policy)) \n",
    "    if i <= 15:\n",
    "        plt.plot(np.sum(Xs,axis=1),color='black')\n",
    "    final_wealths.append(np.sum(Xs,axis=1)[-1])\n",
    "plt.ylabel('total value')\n",
    "plt.xlabel('t')\n",
    "plt.savefig('figs/portfolio1.pdf')"
   ]
  },
  {
   "cell_type": "code",
   "execution_count": null,
   "metadata": {},
   "outputs": [],
   "source": [
    "Xs.shape"
   ]
  },
  {
   "cell_type": "code",
   "execution_count": null,
   "metadata": {},
   "outputs": [],
   "source": [
    "# Xs/np.sum(Xs,axis=1)[:,None]"
   ]
  },
  {
   "cell_type": "code",
   "execution_count": null,
   "metadata": {},
   "outputs": [],
   "source": [
    "i = 0\n",
    "for x in (Xs/Xs.sum(axis=1)[:,None]).T:\n",
    "    plt.plot(x, label=tickers[i])\n",
    "    i += 1\n",
    "plt.legend()\n",
    "plt.ylabel('allocation')\n",
    "plt.xlabel('t')\n",
    "plt.savefig('figs/portfolio2.pdf')"
   ]
  },
  {
   "cell_type": "code",
   "execution_count": null,
   "metadata": {},
   "outputs": [],
   "source": [
    "plt.hist(np.array(final_wealths)/(1000*n)-1.,bins=30,color='black',density=True);\n",
    "plt.xlim(-.125,.125)\n",
    "plt.ylabel('count')\n",
    "plt.xlabel('returns')\n",
    "plt.savefig('figs/portfolio3.pdf')"
   ]
  },
  {
   "cell_type": "code",
   "execution_count": null,
   "metadata": {},
   "outputs": [],
   "source": [
    "100*(np.mean(np.array(final_wealths)/(1000*n))-1)"
   ]
  },
  {
   "cell_type": "code",
   "execution_count": null,
   "metadata": {},
   "outputs": [],
   "source": [
    "np.std(100*np.array(final_wealths)/(1000*n))"
   ]
  },
  {
   "cell_type": "code",
   "execution_count": null,
   "metadata": {},
   "outputs": [],
   "source": [
    "plt.step(np.arange(len(Modes)),np.array(Modes)+1, color='black')\n",
    "plt.ylabel('mode')\n",
    "plt.xlabel('t')\n",
    "plt.savefig('figs/portfolio4.pdf')"
   ]
  },
  {
   "cell_type": "code",
   "execution_count": null,
   "metadata": {
    "scrolled": true
   },
   "outputs": [],
   "source": [
    "# plt.plot(np.sum(np.abs(Us),axis=1),color='black')\n",
    "# plt.ylabel('trading volume')\n",
    "# plt.xlabel('t')\n",
    "# plt.savefig('figs/portfolio3.pdf')"
   ]
  },
  {
   "cell_type": "code",
   "execution_count": null,
   "metadata": {},
   "outputs": [],
   "source": [
    "class LongOnlyPolicy(Policy):\n",
    "    def __init__(self, Q):\n",
    "        self.Q = Q\n",
    "\n",
    "    def __call__(self, t, x, s):\n",
    "        Q = self.Q[s]\n",
    "        Q = Q.affine_composition(np.r_[np.zeros((n,n)),np.eye(n)],np.r_[x,np.zeros(n)])\n",
    "        u = cvx.Variable(n)\n",
    "        Q, constraints = extended_quadratic_to_cvx(Q, u)\n",
    "        problem = cvx.Problem(cvx.Minimize(Q), constraints+[x+u>=1e-3])\n",
    "        result = problem.solve(solver='OSQP')\n",
    "        return np.array(u.value).flatten()"
   ]
  },
  {
   "cell_type": "code",
   "execution_count": null,
   "metadata": {},
   "outputs": [],
   "source": [
    "np.random.seed(1)\n",
    "final_wealths = []\n",
    "for _ in range(20):\n",
    "    Xs, Us, Modes, cost = system.simulate(1000*np.ones(n),3,T,LongOnlyPolicy(Q)) \n",
    "    plt.plot(np.sum(Xs,axis=1),color='black')\n",
    "    final_wealths.append(np.sum(Xs,axis=1)[-1])\n",
    "plt.savefig('figs/portfolio1-longonly.pdf')"
   ]
  },
  {
   "cell_type": "code",
   "execution_count": null,
   "metadata": {},
   "outputs": [],
   "source": [
    "np.mean(np.array(final_wealths)/(1000*n))"
   ]
  },
  {
   "cell_type": "code",
   "execution_count": null,
   "metadata": {},
   "outputs": [],
   "source": [
    "np.std(np.array(final_wealths)/(1000*n))"
   ]
  },
  {
   "cell_type": "code",
   "execution_count": null,
   "metadata": {},
   "outputs": [],
   "source": [
    "i = 0\n",
    "for x in (Xs/Xs.sum(axis=1)[:,None]).T:\n",
    "    plt.plot(x, label=tickers[i])\n",
    "    i += 1\n",
    "plt.legend()\n",
    "plt.savefig('figs/portfolio2-longonly.pdf')"
   ]
  },
  {
   "cell_type": "code",
   "execution_count": null,
   "metadata": {},
   "outputs": [],
   "source": [
    "plt.step(np.arange(len(Modes)),Modes, color='black')\n",
    "plt.savefig('figs/portfolio4-longonly.pdf')"
   ]
  },
  {
   "cell_type": "code",
   "execution_count": null,
   "metadata": {},
   "outputs": [],
   "source": [
    "plt.plot(np.sum(np.abs(Us),axis=1),color='black')\n",
    "plt.savefig('figs/portfolio3-longonly.pdf')"
   ]
  },
  {
   "cell_type": "code",
   "execution_count": null,
   "metadata": {},
   "outputs": [],
   "source": []
  }
 ],
 "metadata": {
  "@webio": {
   "lastCommId": null,
   "lastKernelId": null
  },
  "kernelspec": {
   "display_name": "Python 3",
   "language": "python",
   "name": "python3"
  },
  "language_info": {
   "codemirror_mode": {
    "name": "ipython",
    "version": 3
   },
   "file_extension": ".py",
   "mimetype": "text/x-python",
   "name": "python",
   "nbconvert_exporter": "python",
   "pygments_lexer": "ipython3",
   "version": "3.7.5"
  }
 },
 "nbformat": 4,
 "nbformat_minor": 2
}
