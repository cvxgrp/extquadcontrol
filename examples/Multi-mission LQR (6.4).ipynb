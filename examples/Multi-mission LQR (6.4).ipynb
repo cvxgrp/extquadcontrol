{
 "cells": [
  {
   "cell_type": "code",
   "execution_count": 1,
   "metadata": {},
   "outputs": [],
   "source": [
    "%load_ext autoreload\n",
    "%autoreload 2"
   ]
  },
  {
   "cell_type": "code",
   "execution_count": 2,
   "metadata": {},
   "outputs": [],
   "source": [
    "import numpy as np; np.random.seed(0)\n",
    "from extquadcontrol import ExtendedQuadratic, dp_infinite, dp_finite, TimeInvariantAffinePolicy, InfiniteHorizonSystem\n",
    "import matplotlib.pyplot as plt\n",
    "from plot_settings import savefig"
   ]
  },
  {
   "cell_type": "markdown",
   "metadata": {},
   "source": [
    "# Multi-mission LQR"
   ]
  },
  {
   "cell_type": "code",
   "execution_count": 3,
   "metadata": {},
   "outputs": [
    {
     "name": "stdout",
     "output_type": "stream",
     "text": [
      "[[0.97   0.0075 0.015 ]\n",
      " [0.003  0.97   0.015 ]\n",
      " [0.027  0.0225 0.97  ]]\n",
      "[[1.   0.   0.05 0.  ]\n",
      " [0.   1.   0.   0.05]\n",
      " [0.   0.   0.98 0.  ]\n",
      " [0.   0.   0.   0.98]]\n",
      "[[0.   0.  ]\n",
      " [0.   0.  ]\n",
      " [0.05 0.  ]\n",
      " [0.   0.05]]\n"
     ]
    }
   ],
   "source": [
    "n = 4\n",
    "m = 2\n",
    "N = 1\n",
    "K = 3\n",
    "T = 50\n",
    "\n",
    "dt = .05\n",
    "mass = 1\n",
    "k = .4\n",
    "targets = [\n",
    "    np.array([-1,.5]),\n",
    "    np.array([-1,-.25]),\n",
    "    np.array([1,0])\n",
    "]\n",
    "\n",
    "mix = .97\n",
    "\n",
    "Pi = np.array([\n",
    "    [mix,.5*(1-mix)/2,(1-mix)/2],\n",
    "    [.2*(1-mix)/2,mix,(1-mix)/2],\n",
    "    [1.8*(1-mix)/2,1.5*(1-mix)/2,mix]\n",
    "])\n",
    "\n",
    "print (Pi)\n",
    "\n",
    "As = np.r_[\n",
    "    np.c_[np.eye(2),dt*np.eye(2)],\n",
    "    np.c_[np.zeros((2,2)),(1.-1./mass*k*dt)*np.eye(2)]\n",
    "]\n",
    "Bs = np.r_[np.zeros((2,2)),dt/mass*np.eye(2)]\n",
    "cs = np.zeros(4)\n",
    "\n",
    "print (As)\n",
    "print (Bs)"
   ]
  },
  {
   "cell_type": "code",
   "execution_count": 4,
   "metadata": {},
   "outputs": [],
   "source": [
    "def get_sample(individual=False):\n",
    "    def sample(N):\n",
    "        A = np.zeros((N,K,n,n)); A[:] = As\n",
    "        B = np.zeros((N,K,n,m)); B[:] = Bs\n",
    "        c = np.zeros((N,K,n)); c[:] = cs\n",
    "\n",
    "        Pi = np.array([\n",
    "            [mix,.5*(1-mix)/2,(1-mix)/2],\n",
    "            [.2*(1-mix)/2,mix,(1-mix)/2],\n",
    "            [1.8*(1-mix)/2,1.5*(1-mix)/2,mix]\n",
    "        ])\n",
    "        if individual:\n",
    "            Pi = np.eye(3)\n",
    "        costs  = []\n",
    "        for s in range(K):\n",
    "            P = np.diag([1,1,0,0,.1,.1])\n",
    "            q = np.zeros(n+m); q[:2] = -targets[s]\n",
    "            r = targets[s]@targets[s]\n",
    "            costs.append(ExtendedQuadratic(P,q,r))\n",
    "        g = [costs for _ in range(N)]\n",
    "        \n",
    "        return A,B,c,g,Pi\n",
    "    return sample"
   ]
  },
  {
   "cell_type": "code",
   "execution_count": 5,
   "metadata": {
    "scrolled": false
   },
   "outputs": [
    {
     "data": {
      "image/png": "[encoded data removed]",
      "text/plain": [
       "<Figure size 288x177.998 with 1 Axes>"
      ]
     },
     "metadata": {
      "needs_background": "light"
     },
     "output_type": "display_data"
    },
    {
     "data": {
      "image/png": "[encoded data removed]",
      "text/plain": [
       "<Figure size 432x288 with 1 Axes>"
      ]
     },
     "metadata": {
      "needs_background": "light"
     },
     "output_type": "display_data"
    },
    {
     "name": "stdout",
     "output_type": "stream",
     "text": [
      "0.521979142026115\n"
     ]
    }
   ],
   "source": [
    "sample = get_sample()\n",
    "Vs, Qs, policy = dp_infinite(sample, T, N)\n",
    "\n",
    "policy = TimeInvariantAffinePolicy(policy)\n",
    "system = InfiniteHorizonSystem(sample, K)\n",
    "\n",
    "np.random.seed(15)\n",
    "X, U, Modes, cost = system.simulate(np.array([0,-1,0,0]),0,200,policy)\n",
    "\n",
    "fig = plt.figure()\n",
    "plt.scatter(X[:,0],X[:,1],c='black',s=.2)\n",
    "plt.ylim(-1,1)\n",
    "plt.xlim(-1.5,1.5)\n",
    "for t in targets:\n",
    "    plt.scatter(t[0],t[1],c='black')\n",
    "savefig(fig, 'figs/multi1.pdf')\n",
    "plt.show()\n",
    "plt.close()\n",
    "\n",
    "plt.plot(Modes)\n",
    "plt.show()\n",
    "\n",
    "print (cost)"
   ]
  },
  {
   "cell_type": "code",
   "execution_count": 6,
   "metadata": {},
   "outputs": [
    {
     "data": {
      "image/png": "[encoded data removed]",
      "text/plain": [
       "<Figure size 288x177.998 with 1 Axes>"
      ]
     },
     "metadata": {
      "needs_background": "light"
     },
     "output_type": "display_data"
    },
    {
     "data": {
      "image/png": "[encoded data removed]",
      "text/plain": [
       "<Figure size 432x288 with 1 Axes>"
      ]
     },
     "metadata": {
      "needs_background": "light"
     },
     "output_type": "display_data"
    },
    {
     "name": "stdout",
     "output_type": "stream",
     "text": [
      "0.6547184817019318\n"
     ]
    }
   ],
   "source": [
    "sample = get_sample(individual=True)\n",
    "Vs, Qs, policy = dp_infinite(sample, T, N)\n",
    "\n",
    "policy = TimeInvariantAffinePolicy(policy)\n",
    "system = InfiniteHorizonSystem(get_sample(individual=False), K)\n",
    "\n",
    "np.random.seed(15)\n",
    "X, U, Modes, cost = system.simulate(np.array([0,-1,0,0]),0,200,policy)\n",
    "\n",
    "fig = plt.figure()\n",
    "plt.scatter(X[:,0],X[:,1],c='black',s=.2)\n",
    "plt.ylim(-1,1)\n",
    "plt.xlim(-1.5,1.5)\n",
    "for t in targets:\n",
    "    plt.scatter(t[0],t[1],c='black')\n",
    "savefig(fig, 'figs/multi2.pdf')\n",
    "plt.show()\n",
    "\n",
    "plt.plot(Modes)\n",
    "plt.show()\n",
    "\n",
    "print (cost)"
   ]
  },
  {
   "cell_type": "code",
   "execution_count": null,
   "metadata": {},
   "outputs": [],
   "source": []
  },
  {
   "cell_type": "code",
   "execution_count": null,
   "metadata": {},
   "outputs": [],
   "source": []
  }
 ],
 "metadata": {
  "kernelspec": {
   "display_name": "Python 3",
   "language": "python",
   "name": "python3"
  },
  "language_info": {
   "codemirror_mode": {
    "name": "ipython",
    "version": 3
   },
   "file_extension": ".py",
   "mimetype": "text/x-python",
   "name": "python",
   "nbconvert_exporter": "python",
   "pygments_lexer": "ipython3",
   "version": "3.7.5"
  }
 },
 "nbformat": 4,
 "nbformat_minor": 2
}
