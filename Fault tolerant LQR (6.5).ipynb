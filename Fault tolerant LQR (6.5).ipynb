{
 "cells": [
  {
   "cell_type": "code",
   "execution_count": 1,
   "metadata": {},
   "outputs": [],
   "source": [
    "%load_ext autoreload\n",
    "%autoreload 2"
   ]
  },
  {
   "cell_type": "code",
   "execution_count": 2,
   "metadata": {},
   "outputs": [],
   "source": [
    "import numpy as np; np.random.seed(0)\n",
    "from extquadcontrol import dp_infinite, ExtendedQuadratic\n",
    "import matplotlib.pyplot as plt\n",
    "from plot_settings import savefig"
   ]
  },
  {
   "cell_type": "markdown",
   "metadata": {},
   "source": [
    "# Birdwell example"
   ]
  },
  {
   "cell_type": "code",
   "execution_count": 3,
   "metadata": {},
   "outputs": [],
   "source": [
    "n = 2\n",
    "m = 2\n",
    "K = 3\n",
    "T = 30\n",
    "N = 1\n",
    "\n",
    "Amean = np.diag([2.71828,0.36788]).reshape(1,1,n,n)\n",
    "Bmean = np.array([[1.71828,1.71828],[-0.63212,0.63212]])\n",
    "actuator_configurations = [[],[0],[1]]\n",
    "\n",
    "Pi = np.eye(K)+np.random.uniform(0,.1,size=(K,K))\n",
    "Pi /= np.sum(Pi,axis=0)"
   ]
  },
  {
   "cell_type": "code",
   "execution_count": 4,
   "metadata": {},
   "outputs": [],
   "source": [
    "np.set_printoptions(precision=3)\n",
    "Pi = np.array([[0.898, 0.075, 0.014],\n",
    "       [0.02 , 0.898, 0.036],\n",
    "       [0.081, 0.028, 0.95 ]])"
   ]
  },
  {
   "cell_type": "code",
   "execution_count": 5,
   "metadata": {},
   "outputs": [],
   "source": [
    "def sample(N):\n",
    "    A = np.zeros((N,K,n,n)); A[:] = Amean\n",
    "    B = np.zeros((N,K,n,m)); B[:] = Bmean\n",
    "    for i in range(K):\n",
    "        failures = actuator_configurations[i]\n",
    "        B[:,i,:,failures] = 0\n",
    "    c = np.zeros((N,K,n))\n",
    "    g = [[ExtendedQuadratic(np.eye(n+m),np.zeros(n+m),0) for _ in range(K)] for _ in range(N)]\n",
    "    \n",
    "    return A,B,c,g,Pi\n",
    "\n",
    "Vs, Qs, policies = dp_infinite(sample, T, N)"
   ]
  },
  {
   "cell_type": "code",
   "execution_count": 6,
   "metadata": {},
   "outputs": [],
   "source": [
    "A, B, c, g, Pi = sample(1)"
   ]
  },
  {
   "cell_type": "code",
   "execution_count": 7,
   "metadata": {},
   "outputs": [
    {
     "data": {
      "text/plain": [
       "(array([[-0.737,  0.135],\n",
       "        [-0.74 , -0.136]]), array([0., 0.]))"
      ]
     },
     "execution_count": 7,
     "metadata": {},
     "output_type": "execute_result"
    }
   ],
   "source": [
    "policies[0]"
   ]
  },
  {
   "cell_type": "code",
   "execution_count": 8,
   "metadata": {},
   "outputs": [
    {
     "data": {
      "text/plain": [
       "(array([[ 0.   ,  0.   ],\n",
       "        [-1.455, -0.003]]), array([0., 0.]))"
      ]
     },
     "execution_count": 8,
     "metadata": {},
     "output_type": "execute_result"
    }
   ],
   "source": [
    "policies[1]"
   ]
  },
  {
   "cell_type": "code",
   "execution_count": 9,
   "metadata": {},
   "outputs": [
    {
     "data": {
      "text/plain": [
       "(array([[-1.462,  0.002],\n",
       "        [ 0.   ,  0.   ]]), array([0., 0.]))"
      ]
     },
     "execution_count": 9,
     "metadata": {},
     "output_type": "execute_result"
    }
   ],
   "source": [
    "policies[2]"
   ]
  },
  {
   "cell_type": "code",
   "execution_count": null,
   "metadata": {},
   "outputs": [],
   "source": []
  }
 ],
 "metadata": {
  "kernelspec": {
   "display_name": "Python 3",
   "language": "python",
   "name": "python3"
  },
  "language_info": {
   "codemirror_mode": {
    "name": "ipython",
    "version": 3
   },
   "file_extension": ".py",
   "mimetype": "text/x-python",
   "name": "python",
   "nbconvert_exporter": "python",
   "pygments_lexer": "ipython3",
   "version": "3.6.6"
  }
 },
 "nbformat": 4,
 "nbformat_minor": 2
}
